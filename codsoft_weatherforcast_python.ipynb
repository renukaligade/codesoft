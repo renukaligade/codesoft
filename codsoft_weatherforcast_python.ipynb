{
  "nbformat": 4,
  "nbformat_minor": 0,
  "metadata": {
    "colab": {
      "provenance": [],
      "toc_visible": true,
      "authorship_tag": "ABX9TyPIp5/48Wck5+uTMovv6LNz",
      "include_colab_link": true
    },
    "kernelspec": {
      "name": "python3",
      "display_name": "Python 3"
    },
    "language_info": {
      "name": "python"
    }
  },
  "cells": [
    {
      "cell_type": "markdown",
      "metadata": {
        "id": "view-in-github",
        "colab_type": "text"
      },
      "source": [
        "<a href=\"https://colab.research.google.com/github/renukaligade/codesoft/blob/main/codsoft_weatherforcast_python.ipynb\" target=\"_parent\"><img src=\"https://colab.research.google.com/assets/colab-badge.svg\" alt=\"Open In Colab\"/></a>"
      ]
    },
    {
      "cell_type": "code",
      "source": [
        "import requests\n",
        "from datetime import datetime\n",
        "\n",
        "def get_weather(city):\n",
        "    \"\"\"Fetches weather data for a given city from OpenWeatherMap API.\"\"\"\n",
        "\n",
        "    api_key = \"97ecabea284ceb826d9bd56c98ef02b9\"  # Replace with your actual OpenWeatherMap API key\n",
        "    base_url = \"http://api.openweathermap.org/data/2.5/weather?\"\n",
        "\n",
        "    complete_url = base_url + \"appid=\" + api_key + \"&q=\" + city\n",
        "    response = requests.get(complete_url)\n",
        "\n",
        "    if response.status_code == 200:\n",
        "        data = response.json()\n",
        "        return data\n",
        "    else:\n",
        "        return None\n",
        "\n",
        "def format_weather_data(data):\n",
        "    \"\"\"Formats weather data into a user-friendly string.\"\"\"\n",
        "\n",
        "    if data:\n",
        "        main = data['main']\n",
        "        weather = data['weather'][0]\n",
        "        temp = round(main['temp'] - 273.15, 2)  # Convert Kelvin to Celsius\n",
        "        description = weather['description']\n",
        "        icon = weather['icon']\n",
        "        icon_url = f\"http://openweathermap.org/img/wn/{icon}@2x.png\"\n",
        "\n",
        "        timestamp = datetime.fromtimestamp(data['dt'])\n",
        "        formatted_time = timestamp.strftime(\"%H:%M:%S %d-%m-%Y\")\n",
        "\n",
        "        weather_info = f\"\"\"\n",
        "        Weather in {data['name']}:\n",
        "        --------------------------\n",
        "        Time: {formatted_time}\n",
        "        Temperature: {temp}°C\n",
        "        Description: {description}\n",
        "        Icon: {icon_url}\n",
        "        \"\"\"\n",
        "        return weather_info\n",
        "    else:\n",
        "        return \"City not found.\"\n",
        "\n",
        "if __name__ == \"__main__\":\n",
        "    city_name = input(\"Enter city name: \")\n",
        "    weather_data = get_weather(city_name)\n",
        "    formatted_weather = format_weather_data(weather_data)\n",
        "    print(formatted_weather)"
      ],
      "metadata": {
        "colab": {
          "base_uri": "https://localhost:8080/"
        },
        "id": "rrt84ToXRWmx",
        "outputId": "15089332-2918-40e1-a685-014c3e798690"
      },
      "execution_count": 2,
      "outputs": [
        {
          "output_type": "stream",
          "name": "stdout",
          "text": [
            "Enter city name: mumbai\n",
            "\n",
            "        Weather in Mumbai:\n",
            "        --------------------------\n",
            "        Time: 04:05:55 13-07-2024\n",
            "        Temperature: 25.99°C\n",
            "        Description: overcast clouds\n",
            "        Icon: http://openweathermap.org/img/wn/04d@2x.png\n",
            "        \n"
          ]
        }
      ]
    }
  ]
}