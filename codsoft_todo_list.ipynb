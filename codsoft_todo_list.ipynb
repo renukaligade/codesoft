{
  "cells": [
    {
      "cell_type": "markdown",
      "metadata": {
        "id": "view-in-github",
        "colab_type": "text"
      },
      "source": [
        "<a href=\"https://colab.research.google.com/github/renukaligade/codesoft/blob/main/codsoft_todo_list.ipynb\" target=\"_parent\"><img src=\"https://colab.research.google.com/assets/colab-badge.svg\" alt=\"Open In Colab\"/></a>"
      ]
    },
    {
      "cell_type": "code",
      "execution_count": null,
      "metadata": {
        "colab": {
          "base_uri": "https://localhost:8080/"
        },
        "id": "pFJhMtzAfGRs",
        "outputId": "e96d6c80-ffe7-4f4f-80f8-95365ced0691"
      },
      "outputs": [
        {
          "output_type": "stream",
          "name": "stdout",
          "text": [
            "\n",
            "To-Do List Menu:\n",
            "1. Add Task\n",
            "2. View Tasks\n",
            "3. Mark Task Complete\n",
            "4. Delete Task\n",
            "5. Exit\n"
          ]
        }
      ],
      "source": [
        "import datetime\n",
        "\n",
        "class Task:\n",
        "    \"\"\"Represents a single task in the to-do list.\"\"\"\n",
        "\n",
        "    def __init__(self, description, due_date=None, completed=False):\n",
        "        self.description = description\n",
        "        self.due_date = due_date\n",
        "        self.completed = completed\n",
        "\n",
        "    def mark_complete(self):\n",
        "        \"\"\"Marks the task as completed.\"\"\"\n",
        "        self.completed = True\n",
        "\n",
        "    def __str__(self):\n",
        "        \"\"\"Returns a string representation of the task.\"\"\"\n",
        "        status = \"Completed\" if self.completed else \"Pending\"\n",
        "        due_date_str = f\" (Due: {self.due_date.strftime('%Y-%m-%d')})\" if self.due_date else \"\"\n",
        "        return f\"{status}: {self.description}{due_date_str}\"\n",
        "\n",
        "class ToDoList:\n",
        "    \"\"\"Represents the to-do list.\"\"\"\n",
        "\n",
        "    def __init__(self):\n",
        "        self.tasks = []\n",
        "\n",
        "    def add_task(self, description, due_date=None):\n",
        "        \"\"\"Adds a new task to the list.\"\"\"\n",
        "        task = Task(description, due_date)\n",
        "        self.tasks.append(task)\n",
        "        print(\"Task added successfully!\")\n",
        "\n",
        "    def view_tasks(self):\n",
        "        \"\"\"Displays all tasks in the list.\"\"\"\n",
        "        if not self.tasks:\n",
        "            print(\"Your to-do list is empty.\")\n",
        "        else:\n",
        "            for index, task in enumerate(self.tasks):\n",
        "                print(f\"{index+1}. {task}\")\n",
        "\n",
        "    def mark_task_complete(self, task_index):\n",
        "        \"\"\"Marks a task as completed.\"\"\"\n",
        "        if 0 <= task_index < len(self.tasks):\n",
        "            self.tasks[task_index].mark_complete()\n",
        "            print(\"Task marked as complete!\")\n",
        "        else:\n",
        "            print(\"Invalid task index.\")\n",
        "\n",
        "    def delete_task(self, task_index):\n",
        "        \"\"\"Deletes a task from the list.\"\"\"\n",
        "        if 0 <= task_index < len(self.tasks):\n",
        "            del self.tasks[task_index]\n",
        "            print(\"Task deleted successfully!\")\n",
        "        else:\n",
        "            print(\"Invalid task index.\")\n",
        "\n",
        "def main():\n",
        "    \"\"\"Main function to interact with the to-do list.\"\"\"\n",
        "\n",
        "    todo_list = ToDoList()\n",
        "\n",
        "    while True:\n",
        "        print(\"\\nTo-Do List Menu:\")\n",
        "        print(\"1. Add Task\")\n",
        "        print(\"2. View Tasks\")\n",
        "        print(\"3. Mark Task Complete\")\n",
        "        print(\"4. Delete Task\")\n",
        "        print(\"5. Exit\")\n",
        "\n",
        "        choice = input(\"Enter your choice: \")\n",
        "\n",
        "        if choice == '1':\n",
        "            description = input(\"Enter task description: \")\n",
        "            due_date_str = input(\"Enter due date (YYYY-MM-DD, or leave blank for no due date): \")\n",
        "            due_date = datetime.datetime.strptime(due_date_str, \"%d-%m-%Y\").date() if due_date_str else None\n",
        "            todo_list.add_task(description, due_date)\n",
        "        elif choice == '2':\n",
        "            todo_list.view_tasks()\n",
        "        elif choice == '3':\n",
        "            todo_list.view_tasks()\n",
        "            task_index = int(input(\"Enter the index of the task to mark complete: \")) - 1\n",
        "            todo_list.mark_task_complete(task_index)\n",
        "        elif choice == '4':\n",
        "            todo_list.view_tasks()\n",
        "            task_index = int(input(\"Enter the index of the task to delete: \")) - 1\n",
        "            todo_list.delete_task(task_index)\n",
        "        elif choice == '5':\n",
        "            print(\"Exiting...\")\n",
        "            break\n",
        "        else:\n",
        "            print(\"Invalid choice. Please try again.\")\n",
        "\n",
        "if __name__ == \"__main__\":\n",
        "    main()"
      ]
    }
  ],
  "metadata": {
    "colab": {
      "toc_visible": true,
      "provenance": [],
      "authorship_tag": "ABX9TyP+eGDqoKmvZTHrDjDRndc8",
      "include_colab_link": true
    },
    "kernelspec": {
      "display_name": "Python 3",
      "name": "python3"
    },
    "language_info": {
      "name": "python"
    }
  },
  "nbformat": 4,
  "nbformat_minor": 0
}